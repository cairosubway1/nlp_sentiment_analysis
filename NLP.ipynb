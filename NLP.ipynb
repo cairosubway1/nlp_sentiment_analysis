{
 "cells": [
  {
   "cell_type": "code",
   "execution_count": 5,
   "metadata": {},
   "outputs": [
    {
     "name": "stdout",
     "output_type": "stream",
     "text": [
      "[nltk_data] Downloading package stopwords to /home/andrew/nltk_data...\n",
      "[nltk_data]   Package stopwords is already up-to-date!\n",
      "    sentiment\n",
      "0         3.0\n",
      "1         3.0\n",
      "2         3.0\n",
      "3         3.0\n",
      "4         3.0\n",
      "5         3.0\n",
      "6         3.0\n",
      "7         3.0\n",
      "8         3.0\n",
      "9         1.0\n",
      "10        3.0\n",
      "11        3.0\n"
     ]
    }
   ],
   "source": [
    "import pandas as pd\n",
    "import re\n",
    "import nltk\n",
    "from nltk.corpus import stopwords\n",
    "from langdetect import detect\n",
    "from sklearn.feature_extraction.text import CountVectorizer\n",
    "from sklearn.ensemble import RandomForestClassifier\n",
    "import numpy as np\n",
    "\n",
    "train = pd.read_csv(\"chennai_reviews.csv\")\n",
    "train[\"Review_Text\"] = train[\"Review_Text\"].fillna(\"the\")\n",
    "train[\"Sentiment\"] = pd.to_numeric(train[\"Sentiment\"], errors='coerse')\n",
    "train[\"Sentiment\"] = train[\"Sentiment\"].fillna(2)\n",
    "\n",
    "nltk.download('stopwords')\n",
    "\n",
    "def convert_to_words(raw_text):\n",
    "    letters_only = re.sub(\"[^a-zA-Z]\", \n",
    "                      \" \",                                         \n",
    "                      str(raw_text))\n",
    "    words = letters_only.lower().split()\n",
    "    stop_words = set(stopwords.words(\"english\"))\n",
    "    meaningful_words = [w for w in words if not w in stop_words]\n",
    "    return \" \".join(meaningful_words)\n",
    "    \n",
    "clean_review = convert_to_words(train[\"Review_Text\"][0])\n",
    "\n",
    "num_reviews = train[\"Review_Text\"].size\n",
    "\n",
    "clean_train_reviews = []\n",
    "\n",
    "for i in range(0, num_reviews):\n",
    "    clean_train_reviews.append(convert_to_words(train[\"Review_Text\"][i]))\n",
    "\n",
    "vectorizer = CountVectorizer(analyzer = \"word\",\n",
    "                             tokenizer = None,    \n",
    "                             preprocessor = None, \n",
    "                             stop_words = None,   \n",
    "                             max_features = 5000) \n",
    "\n",
    "train_data_features = vectorizer.fit_transform(clean_train_reviews)\n",
    "\n",
    "np.asarray(train_data_features)\n",
    "\n",
    "forest = RandomForestClassifier(n_estimators = 100)\n",
    "\n",
    "forest = forest.fit(train_data_features, train[\"Sentiment\"])\n",
    "\n",
    "test = pd.read_csv(\"7282_1.csv\")\n",
    "\n",
    "num_reviews1 = test[\"reviews.text\"].size\n",
    "\n",
    "clean_test_reviews = []\n",
    "            \n",
    "for i in range(0, 25):\n",
    "    clean_review = convert_to_words(test[\"reviews.text\"][i])\n",
    "    clean_test_reviews.append(clean_review)\n",
    "    \n",
    "full_reviews = [x for x in clean_test_reviews if x != \"\"]\n",
    "        \n",
    "english_reviews = [x for x in full_reviews if detect(x) == \"en\"]        \n",
    "            \n",
    "test_data_features = vectorizer.transform(english_reviews)\n",
    "test_data_features = test_data_features.toarray()\n",
    "\n",
    "result = forest.predict(test_data_features)\n",
    "\n",
    "output = pd.DataFrame(data={\"sentiment\":result})\n",
    "\n",
    "head = output.head(15)\n",
    " \n",
    "print(head)"
   ]
  },
  {
   "cell_type": "code",
   "execution_count": null,
   "metadata": {
    "collapsed": true
   },
   "outputs": [],
   "source": []
  }
 ],
 "metadata": {
  "kernelspec": {
   "display_name": "Python 3",
   "language": "python",
   "name": "python3"
  },
  "language_info": {
   "codemirror_mode": {
    "name": "ipython",
    "version": 3
   },
   "file_extension": ".py",
   "mimetype": "text/x-python",
   "name": "python",
   "nbconvert_exporter": "python",
   "pygments_lexer": "ipython3",
   "version": "3.5.3"
  }
 },
 "nbformat": 4,
 "nbformat_minor": 2
}
